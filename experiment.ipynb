{
 "cells": [
  {
   "cell_type": "code",
   "execution_count": 1,
   "metadata": {
    "collapsed": true
   },
   "outputs": [],
   "source": [
    "import numpy as np\n",
    "from src.Utils.load_URM import load_URM\n",
    "from src.Utils.cold_melting_warm_splitting import *"
   ]
  },
  {
   "cell_type": "code",
   "execution_count": 2,
   "outputs": [
    {
     "name": "stdout",
     "output_type": "stream",
     "text": [
      "Warning: 81 (1.02 %) of 7947 users have no train items\n",
      "Warning: 2258 (28.41 %) of 7947 users have no sampled items\n"
     ]
    }
   ],
   "source": [
    "from src.Base.Evaluation.Evaluator import EvaluatorHoldout\n",
    "from src.GraphBased.P3alphaRecommender import P3alphaRecommender\n",
    "from src.Utils.load_ICM import load_ICM\n",
    "from src.Utils.load_URM import load_URM\n",
    "\n",
    "URM_all = load_URM(\"in/data_train.csv\")\n",
    "ICM_all = load_ICM(\"in/data_ICM_title_abstract.csv\")\n",
    "from src.Data_manager.split_functions.split_train_validation_random_holdout import \\\n",
    "    split_train_in_two_percentage_global_sample\n",
    "\n",
    "URM_train, URM_validation = split_train_in_two_percentage_global_sample(URM_all, train_percentage=0.80)"
   ],
   "metadata": {
    "collapsed": false,
    "pycharm": {
     "name": "#%%\n"
    }
   }
  },
  {
   "cell_type": "code",
   "execution_count": 3,
   "outputs": [],
   "source": [
    "import json\n",
    "\n",
    "with open('parameter_tuning/logs/P3alphaRecommender_logs.json', 'r') as file:\n",
    "    optimum = json.load(file)\n",
    "\n",
    "optimum = optimum['params']\n",
    "optimum['topK'] = int(optimum['topK'])"
   ],
   "metadata": {
    "collapsed": false,
    "pycharm": {
     "name": "#%%\n"
    }
   }
  },
  {
   "cell_type": "code",
   "execution_count": 4,
   "outputs": [
    {
     "name": "stdout",
     "output_type": "stream",
     "text": [
      "P3alphaRecommender: URM Detected 81 (1.02 %) cold users.\n",
      "P3alphaRecommender: URM Detected 2400 (9.24 %) cold items.\n"
     ]
    }
   ],
   "source": [
    "recommender = P3alphaRecommender(URM_train)\n",
    "\n",
    "recommender.fit(**optimum, implicit=True)"
   ],
   "metadata": {
    "collapsed": false,
    "pycharm": {
     "name": "#%%\n"
    }
   }
  },
  {
   "cell_type": "code",
   "execution_count": 8,
   "outputs": [
    {
     "ename": "TypeError",
     "evalue": "unsupported format string passed to MAP.__format__",
     "output_type": "error",
     "traceback": [
      "\u001B[1;31m---------------------------------------------------------------------------\u001B[0m",
      "\u001B[1;31mTypeError\u001B[0m                                 Traceback (most recent call last)",
      "\u001B[1;32m<ipython-input-8-e15eb7aadaa1>\u001B[0m in \u001B[0;36m<module>\u001B[1;34m\u001B[0m\n\u001B[0;32m      6\u001B[0m     \u001B[0mevaluator_validation\u001B[0m \u001B[1;33m=\u001B[0m \u001B[0mEvaluatorHoldout\u001B[0m\u001B[1;33m(\u001B[0m\u001B[0mURM_validation\u001B[0m\u001B[1;33m,\u001B[0m \u001B[0mcutoff_list\u001B[0m\u001B[1;33m=\u001B[0m\u001B[1;33m[\u001B[0m\u001B[1;36m10\u001B[0m\u001B[1;33m]\u001B[0m\u001B[1;33m,\u001B[0m \u001B[0mverbose\u001B[0m\u001B[1;33m=\u001B[0m\u001B[1;32mFalse\u001B[0m\u001B[1;33m,\u001B[0m \u001B[0mignore_users\u001B[0m\u001B[1;33m=\u001B[0m\u001B[0mnp\u001B[0m\u001B[1;33m.\u001B[0m\u001B[0masarray\u001B[0m\u001B[1;33m(\u001B[0m\u001B[0mmelting\u001B[0m\u001B[1;33m)\u001B[0m\u001B[1;33m[\u001B[0m\u001B[1;36m0\u001B[0m\u001B[1;33m]\u001B[0m\u001B[1;33m)\u001B[0m\u001B[1;33m\u001B[0m\u001B[1;33m\u001B[0m\u001B[0m\n\u001B[0;32m      7\u001B[0m \u001B[1;33m\u001B[0m\u001B[0m\n\u001B[1;32m----> 8\u001B[1;33m     \u001B[0mresult_dict\u001B[0m\u001B[1;33m,\u001B[0m \u001B[0m_\u001B[0m \u001B[1;33m=\u001B[0m \u001B[0mevaluator_validation\u001B[0m\u001B[1;33m.\u001B[0m\u001B[0mevaluateRecommender\u001B[0m\u001B[1;33m(\u001B[0m\u001B[0mrecommender\u001B[0m\u001B[1;33m)\u001B[0m\u001B[1;33m\u001B[0m\u001B[1;33m\u001B[0m\u001B[0m\n\u001B[0m\u001B[0;32m      9\u001B[0m \u001B[1;33m\u001B[0m\u001B[0m\n\u001B[0;32m     10\u001B[0m     \u001B[0mresults\u001B[0m\u001B[1;33m.\u001B[0m\u001B[0mappend\u001B[0m\u001B[1;33m(\u001B[0m\u001B[0mresult_dict\u001B[0m\u001B[1;33m[\u001B[0m\u001B[1;36m10\u001B[0m\u001B[1;33m]\u001B[0m\u001B[1;33m[\u001B[0m\u001B[1;34m\"MAP\"\u001B[0m\u001B[1;33m]\u001B[0m\u001B[1;33m)\u001B[0m\u001B[1;33m\u001B[0m\u001B[1;33m\u001B[0m\u001B[0m\n",
      "\u001B[1;32m~\\Desktop\\RecSysChallenge2020\\src\\Base\\Evaluation\\Evaluator.py\u001B[0m in \u001B[0;36mevaluateRecommender\u001B[1;34m(self, recommender_object)\u001B[0m\n\u001B[0;32m    264\u001B[0m             \u001B[0mrecommender_object\u001B[0m\u001B[1;33m.\u001B[0m\u001B[0mreset_items_to_ignore\u001B[0m\u001B[1;33m(\u001B[0m\u001B[1;33m)\u001B[0m\u001B[1;33m\u001B[0m\u001B[1;33m\u001B[0m\u001B[0m\n\u001B[0;32m    265\u001B[0m \u001B[1;33m\u001B[0m\u001B[0m\n\u001B[1;32m--> 266\u001B[1;33m         \u001B[0mresults_run_string\u001B[0m \u001B[1;33m=\u001B[0m \u001B[0mget_result_string\u001B[0m\u001B[1;33m(\u001B[0m\u001B[0mresults_dict\u001B[0m\u001B[1;33m)\u001B[0m\u001B[1;33m\u001B[0m\u001B[1;33m\u001B[0m\u001B[0m\n\u001B[0m\u001B[0;32m    267\u001B[0m \u001B[1;33m\u001B[0m\u001B[0m\n\u001B[0;32m    268\u001B[0m         \u001B[1;32mreturn\u001B[0m \u001B[1;33m(\u001B[0m\u001B[0mresults_dict\u001B[0m\u001B[1;33m,\u001B[0m \u001B[0mresults_run_string\u001B[0m\u001B[1;33m)\u001B[0m\u001B[1;33m\u001B[0m\u001B[1;33m\u001B[0m\u001B[0m\n",
      "\u001B[1;32m~\\Desktop\\RecSysChallenge2020\\src\\Base\\Evaluation\\Evaluator.py\u001B[0m in \u001B[0;36mget_result_string\u001B[1;34m(results_run, n_decimals)\u001B[0m\n\u001B[0;32m    118\u001B[0m         \u001B[1;32mfor\u001B[0m \u001B[0mmetric\u001B[0m \u001B[1;32min\u001B[0m \u001B[0mresults_run_current_cutoff\u001B[0m\u001B[1;33m.\u001B[0m\u001B[0mkeys\u001B[0m\u001B[1;33m(\u001B[0m\u001B[1;33m)\u001B[0m\u001B[1;33m:\u001B[0m\u001B[1;33m\u001B[0m\u001B[1;33m\u001B[0m\u001B[0m\n\u001B[0;32m    119\u001B[0m             output_str += \"{}: {:.{n_decimals}f}, \".format(metric, results_run_current_cutoff[metric],\n\u001B[1;32m--> 120\u001B[1;33m                                                            n_decimals=n_decimals)\n\u001B[0m\u001B[0;32m    121\u001B[0m \u001B[1;33m\u001B[0m\u001B[0m\n\u001B[0;32m    122\u001B[0m         \u001B[0moutput_str\u001B[0m \u001B[1;33m+=\u001B[0m \u001B[1;34m\"\\n\"\u001B[0m\u001B[1;33m\u001B[0m\u001B[1;33m\u001B[0m\u001B[0m\n",
      "\u001B[1;31mTypeError\u001B[0m: unsupported format string passed to MAP.__format__"
     ]
    }
   ],
   "source": [
    "results=[]\n",
    "\n",
    "for threshold in [6, 14, 40, 50, 80, 100, 200, 1500, 2000]:\n",
    "    _,melting, warm = cold_melting_warm_splitting(URM_train, threshold=threshold)\n",
    "    evaluator_validation = EvaluatorHoldout(URM_validation, cutoff_list=[10], verbose=False, ignore_users=np.asarray(melting)[0])\n",
    "\n",
    "    result_dict, _ = evaluator_validation.evaluateRecommender(recommender)\n",
    "\n",
    "    results.append(result_dict[10][\"MAP\"])\n",
    "\n",
    "results"
   ],
   "metadata": {
    "collapsed": false,
    "pycharm": {
     "name": "#%%\n"
    }
   }
  }
 ],
 "metadata": {
  "kernelspec": {
   "name": "recsysframework",
   "language": "python",
   "display_name": "Python (RecSysFramework)"
  },
  "language_info": {
   "codemirror_mode": {
    "name": "ipython",
    "version": 2
   },
   "file_extension": ".py",
   "mimetype": "text/x-python",
   "name": "python",
   "nbconvert_exporter": "python",
   "pygments_lexer": "ipython2",
   "version": "2.7.6"
  }
 },
 "nbformat": 4,
 "nbformat_minor": 0
}