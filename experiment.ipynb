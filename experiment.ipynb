{
 "cells": [
  {
   "cell_type": "code",
   "execution_count": 7,
   "outputs": [
    {
     "name": "stdout",
     "output_type": "stream",
     "text": [
      "Warning: 64 (0.81 %) of 7947 users have no train items\n",
      "Warning: 2302 (28.97 %) of 7947 users have no sampled items\n"
     ]
    }
   ],
   "source": [
    "from src.Base.Evaluation.Evaluator import EvaluatorHoldout\n",
    "import numpy as np\n",
    "from src.Utils.load_ICM import load_ICM\n",
    "from src.Utils.load_URM import load_URM\n",
    "\n",
    "import pandas as pd  # data processing, CSV file I/O (e.g. pd.read_csv)\n",
    "\n",
    "URM_all = load_URM(\"in/data_train.csv\")\n",
    "ICM_all = load_ICM(\"in/data_ICM_title_abstract.csv\")\n",
    "\n",
    "from src.Data_manager.split_functions.split_train_validation_random_holdout import split_train_in_two_percentage_global_sample\n",
    "\n",
    "URM_train, URM_test = split_train_in_two_percentage_global_sample(URM_all, train_percentage=0.80)"
   ],
   "metadata": {
    "collapsed": false,
    "pycharm": {
     "name": "#%%\n"
    }
   }
  },
  {
   "cell_type": "code",
   "execution_count": 8,
   "outputs": [
    {
     "name": "stdout",
     "output_type": "stream",
     "text": [
      "P3alphaRecommender: URM Detected 64 (0.81 %) cold users.\n",
      "P3alphaRecommender: URM Detected 2378 (9.15 %) cold items.\n",
      "RP3betaCBFRecommender: URM Detected 64 (0.81 %) cold users.\n",
      "RP3betaCBFRecommender: URM Detected 2378 (9.15 %) cold items.\n",
      "RP3betaRecommender: URM Detected 66 (0.24 %) cold users.\n",
      "P3alphaRP3betaCBFHybridRecommender: URM Detected 64 (0.81 %) cold users.\n",
      "P3alphaRP3betaCBFHybridRecommender: URM Detected 2378 (9.15 %) cold items.\n",
      "EASE_R_Recommender: URM Detected 64 (0.81 %) cold users.\n",
      "EASE_R_Recommender: URM Detected 2378 (9.15 %) cold items.\n",
      "EASE_R_Recommender: Fitting model... \n",
      "Similarity column 25975 ( 100 % ), 10904.92 column/sec, elapsed time 0.04 min\n",
      "EASE_R_Recommender: Fitting model... done in 8.32 min\n",
      "EASE_R_Recommender: Detected model matrix to be sparse, changing format.\n",
      "TopPopRecommender: URM Detected 64 (0.81 %) cold users.\n",
      "TopPopRecommender: URM Detected 2378 (9.15 %) cold items.\n"
     ]
    }
   ],
   "source": [
    "from src.Utils.ICM_preprocessing import *\n",
    "from src.GraphBased.P3alphaRecommender import P3alphaRecommender\n",
    "from src.GraphBased.RP3betaCBFRecommender import RP3betaCBFRecommender\n",
    "from src.Hybrid.SimilarityMergedHybridRecommender import SimilarityMergedHybridRecommender\n",
    "from src.Base.NonPersonalizedRecommender import TopPop\n",
    "from src.MatrixFactorization.PureSVDRecommender import PureSVDItemRecommender\n",
    "from src.EASE_R.EASE_R_Recommender import EASE_R_Recommender\n",
    "ICM_combined = combine(ICM=ICM_all, URM = URM_train)\n",
    "\n",
    "p3alpha_recommender = P3alphaRecommender(URM_train=URM_train)\n",
    "p3alpha_recommender.fit(topK=221,alpha=0.5017,implicit=True)\n",
    "\n",
    "rp3betaCBF_recommender = RP3betaCBFRecommender(URM_train=URM_train, ICM_train=ICM_combined)\n",
    "rp3betaCBF_recommender.fit(topK=586, alpha=0.4228, beta=0.1918, implicit=False)\n",
    "\n",
    "p3alpha_featurecombinedrp3beta_recommender = SimilarityMergedHybridRecommender(\n",
    "    URM_train=URM_train,\n",
    "    CFRecommender=p3alpha_recommender,\n",
    "    CBFRecommender=rp3betaCBF_recommender\n",
    ")\n",
    "p3alpha_featurecombinedrp3beta_recommender.fit(topK=355, alpha=0.2222)\n",
    "\n",
    "#pureSVDitem_recommender = PureSVDItemRecommender(URM_train)\n",
    "#pureSVDitem_recommender.fit(num_factors=448,topK=462)\n",
    "\n",
    "easer_recommender = EASE_R_Recommender(URM_train, sparse_threshold_quota=1.0)\n",
    "easer_recommender.fit(**{\"l2_norm\": 41476.92126107723, \"topK\": 56})\n",
    "\n",
    "topPop = TopPop(URM_train)\n",
    "topPop.fit()"
   ],
   "metadata": {
    "collapsed": false,
    "pycharm": {
     "name": "#%%\n"
    }
   }
  },
  {
   "cell_type": "code",
   "execution_count": 9,
   "outputs": [],
   "source": [
    "profile_length = np.ediff1d(URM_train.indptr)\n",
    "block_size = int(len(profile_length)*0.1)\n",
    "sorted_users = np.argsort(profile_length)\n"
   ],
   "metadata": {
    "collapsed": false,
    "pycharm": {
     "name": "#%%\n"
    }
   }
  },
  {
   "cell_type": "code",
   "execution_count": 10,
   "outputs": [
    {
     "name": "stdout",
     "output_type": "stream",
     "text": [
      "Group 0, average p.len 1.13, min 0, max 2\n",
      "Group 1, average p.len 2.00, min 2, max 2\n",
      "Group 2, average p.len 2.64, min 2, max 3\n",
      "Group 3, average p.len 3.24, min 3, max 4\n",
      "Group 4, average p.len 4.18, min 4, max 5\n",
      "Group 5, average p.len 5.44, min 5, max 6\n",
      "Group 6, average p.len 6.87, min 6, max 8\n",
      "Group 7, average p.len 9.78, min 8, max 12\n",
      "Group 8, average p.len 16.26, min 12, max 22\n",
      "Group 9, average p.len 56.19, min 22, max 422\n"
     ]
    }
   ],
   "source": [
    "for group_id in range(0, 10):\n",
    "\n",
    "    start_pos = group_id*block_size\n",
    "    end_pos = min((group_id+1)*block_size, len(profile_length))\n",
    "\n",
    "    users_in_group = sorted_users[start_pos:end_pos]\n",
    "\n",
    "    users_in_group_p_len = profile_length[users_in_group]\n",
    "\n",
    "    print(\"Group {}, average p.len {:.2f}, min {}, max {}\".format(group_id,\n",
    "        users_in_group_p_len.mean(), users_in_group_p_len.min(), users_in_group_p_len.max()))"
   ],
   "metadata": {
    "collapsed": false,
    "pycharm": {
     "name": "#%%\n"
    }
   }
  },
  {
   "cell_type": "code",
   "execution_count": 11,
   "outputs": [
    {
     "name": "stdout",
     "output_type": "stream",
     "text": [
      "Group 0, average p.len 1.13, min 0, max 2\n",
      "EvaluatorHoldout: Ignoring 7153 Users\n",
      "EvaluatorHoldout: Processed 647 ( 100.00% ) in 0.97 sec. Users per second: 670\n",
      "EvaluatorHoldout: Processed 647 ( 100.00% ) in 0.46 sec. Users per second: 1413\n",
      "EvaluatorHoldout: Processed 647 ( 100.00% ) in 1.02 sec. Users per second: 633\n",
      "EvaluatorHoldout: Processed 647 ( 100.00% ) in 0.35 sec. Users per second: 1827\n",
      "EvaluatorHoldout: Processed 647 ( 100.00% ) in 0.49 sec. Users per second: 1319\n",
      "Group 1, average p.len 2.00, min 2, max 2\n",
      "EvaluatorHoldout: Ignoring 7153 Users\n",
      "EvaluatorHoldout: Processed 396 ( 100.00% ) in 0.34 sec. Users per second: 1179\n",
      "EvaluatorHoldout: Processed 396 ( 100.00% ) in 0.22 sec. Users per second: 1782\n",
      "EvaluatorHoldout: Processed 396 ( 100.00% ) in 0.44 sec. Users per second: 900\n",
      "EvaluatorHoldout: Processed 396 ( 100.00% ) in 0.22 sec. Users per second: 1832\n",
      "EvaluatorHoldout: Processed 396 ( 100.00% ) in 0.31 sec. Users per second: 1276\n",
      "Group 2, average p.len 2.64, min 2, max 3\n",
      "EvaluatorHoldout: Ignoring 7153 Users\n",
      "EvaluatorHoldout: Processed 400 ( 100.00% ) in 0.27 sec. Users per second: 1455\n",
      "EvaluatorHoldout: Processed 400 ( 100.00% ) in 0.22 sec. Users per second: 1817\n",
      "EvaluatorHoldout: Processed 400 ( 100.00% ) in 0.30 sec. Users per second: 1314\n",
      "EvaluatorHoldout: Processed 400 ( 100.00% ) in 0.23 sec. Users per second: 1761\n",
      "EvaluatorHoldout: Processed 400 ( 100.00% ) in 0.31 sec. Users per second: 1306\n",
      "Group 3, average p.len 3.24, min 3, max 4\n",
      "EvaluatorHoldout: Ignoring 7153 Users\n",
      "EvaluatorHoldout: Processed 390 ( 100.00% ) in 0.26 sec. Users per second: 1473\n",
      "EvaluatorHoldout: Processed 390 ( 100.00% ) in 0.21 sec. Users per second: 1829\n",
      "EvaluatorHoldout: Processed 390 ( 100.00% ) in 0.27 sec. Users per second: 1471\n",
      "EvaluatorHoldout: Processed 390 ( 100.00% ) in 0.23 sec. Users per second: 1687\n",
      "EvaluatorHoldout: Processed 390 ( 100.00% ) in 0.30 sec. Users per second: 1295\n",
      "Group 4, average p.len 4.18, min 4, max 5\n",
      "EvaluatorHoldout: Ignoring 7153 Users\n",
      "EvaluatorHoldout: Processed 422 ( 100.00% ) in 0.27 sec. Users per second: 1561\n",
      "EvaluatorHoldout: Processed 422 ( 100.00% ) in 0.24 sec. Users per second: 1742\n",
      "EvaluatorHoldout: Processed 422 ( 100.00% ) in 0.29 sec. Users per second: 1464\n",
      "EvaluatorHoldout: Processed 422 ( 100.00% ) in 0.25 sec. Users per second: 1721\n",
      "EvaluatorHoldout: Processed 422 ( 100.00% ) in 0.33 sec. Users per second: 1297\n",
      "Group 5, average p.len 5.44, min 5, max 6\n",
      "EvaluatorHoldout: Ignoring 7153 Users\n",
      "EvaluatorHoldout: Processed 549 ( 100.00% ) in 0.35 sec. Users per second: 1554\n",
      "EvaluatorHoldout: Processed 549 ( 100.00% ) in 0.31 sec. Users per second: 1747\n",
      "EvaluatorHoldout: Processed 549 ( 100.00% ) in 0.38 sec. Users per second: 1464\n",
      "EvaluatorHoldout: Processed 549 ( 100.00% ) in 0.34 sec. Users per second: 1628\n",
      "EvaluatorHoldout: Processed 549 ( 100.00% ) in 0.41 sec. Users per second: 1325\n",
      "Group 6, average p.len 6.87, min 6, max 8\n",
      "EvaluatorHoldout: Ignoring 7153 Users\n",
      "EvaluatorHoldout: Processed 623 ( 100.00% ) in 0.41 sec. Users per second: 1518\n",
      "EvaluatorHoldout: Processed 623 ( 100.00% ) in 0.36 sec. Users per second: 1749\n",
      "EvaluatorHoldout: Processed 623 ( 100.00% ) in 0.44 sec. Users per second: 1415\n",
      "EvaluatorHoldout: Processed 623 ( 100.00% ) in 0.38 sec. Users per second: 1634\n",
      "EvaluatorHoldout: Processed 623 ( 100.00% ) in 0.46 sec. Users per second: 1356\n",
      "Group 7, average p.len 9.78, min 8, max 12\n",
      "EvaluatorHoldout: Ignoring 7153 Users\n",
      "EvaluatorHoldout: Processed 657 ( 100.00% ) in 0.46 sec. Users per second: 1432\n",
      "EvaluatorHoldout: Processed 657 ( 100.00% ) in 0.39 sec. Users per second: 1692\n",
      "EvaluatorHoldout: Processed 657 ( 100.00% ) in 0.49 sec. Users per second: 1344\n",
      "EvaluatorHoldout: Processed 657 ( 100.00% ) in 0.42 sec. Users per second: 1567\n",
      "EvaluatorHoldout: Processed 657 ( 100.00% ) in 0.47 sec. Users per second: 1388\n",
      "Group 8, average p.len 16.26, min 12, max 22\n",
      "EvaluatorHoldout: Ignoring 7153 Users\n",
      "EvaluatorHoldout: Processed 761 ( 100.00% ) in 0.60 sec. Users per second: 1263\n",
      "EvaluatorHoldout: Processed 761 ( 100.00% ) in 0.52 sec. Users per second: 1474\n",
      "EvaluatorHoldout: Processed 761 ( 100.00% ) in 0.63 sec. Users per second: 1204\n",
      "EvaluatorHoldout: Processed 761 ( 100.00% ) in 0.52 sec. Users per second: 1474\n",
      "EvaluatorHoldout: Processed 761 ( 100.00% ) in 0.53 sec. Users per second: 1429\n",
      "Group 9, average p.len 56.19, min 22, max 422\n",
      "EvaluatorHoldout: Ignoring 7153 Users\n",
      "EvaluatorHoldout: Processed 793 ( 100.00% ) in 0.81 sec. Users per second: 981\n",
      "EvaluatorHoldout: Processed 793 ( 100.00% ) in 0.60 sec. Users per second: 1323\n",
      "EvaluatorHoldout: Processed 793 ( 100.00% ) in 0.86 sec. Users per second: 926\n",
      "EvaluatorHoldout: Processed 793 ( 100.00% ) in 0.67 sec. Users per second: 1176\n",
      "EvaluatorHoldout: Processed 793 ( 100.00% ) in 0.58 sec. Users per second: 1366\n"
     ]
    }
   ],
   "source": [
    "MAP_hybrid_per_group = []\n",
    "MAP_p3alpha_per_group = []\n",
    "MAP_featurecombinationRP3beta_per_group = []\n",
    "MAP_pureSVDitem_per_group = []\n",
    "MAP_easer_per_group = []\n",
    "MAP_topPop_per_group = []\n",
    "cutoff = 10\n",
    "\n",
    "for group_id in range(0, 10):\n",
    "\n",
    "    start_pos = group_id*block_size\n",
    "    end_pos = min((group_id+1)*block_size, len(profile_length))\n",
    "\n",
    "    users_in_group = sorted_users[start_pos:end_pos]\n",
    "\n",
    "    users_in_group_p_len = profile_length[users_in_group]\n",
    "\n",
    "    print(\"Group {}, average p.len {:.2f}, min {}, max {}\".format(group_id,\n",
    "        users_in_group_p_len.mean(), users_in_group_p_len.min(), users_in_group_p_len.max()))\n",
    "\n",
    "\n",
    "    users_not_in_group_flag = np.isin(sorted_users, users_in_group, invert = True)\n",
    "    users_not_in_group = sorted_users[users_not_in_group_flag]\n",
    "\n",
    "    evaluator_test = EvaluatorHoldout(URM_test, cutoff_list=[cutoff], ignore_users = users_not_in_group)\n",
    "\n",
    "\n",
    "    results, _ = evaluator_test.evaluateRecommender(p3alpha_featurecombinedrp3beta_recommender)\n",
    "    MAP_hybrid_per_group.append(results[cutoff][\"MAP\"])\n",
    "\n",
    "    results, _ = evaluator_test.evaluateRecommender(p3alpha_recommender)\n",
    "    MAP_p3alpha_per_group.append(results[cutoff][\"MAP\"])\n",
    "\n",
    "    results, _ = evaluator_test.evaluateRecommender(rp3betaCBF_recommender)\n",
    "    MAP_featurecombinationRP3beta_per_group.append(results[cutoff][\"MAP\"])\n",
    "\n",
    "    #results, _ = evaluator_test.evaluateRecommender(pureSVDitem_recommender)\n",
    "    #MAP_pureSVDitem_per_group.append(results[cutoff][\"MAP\"])\n",
    "\n",
    "    results, _ = evaluator_test.evaluateRecommender(easer_recommender)\n",
    "    MAP_easer_per_group.append(results[cutoff][\"MAP\"])\n",
    "\n",
    "\n",
    "    results, _ = evaluator_test.evaluateRecommender(topPop)\n",
    "    MAP_topPop_per_group.append(results[cutoff][\"MAP\"])\n",
    "\n"
   ],
   "metadata": {
    "collapsed": false,
    "pycharm": {
     "name": "#%%\n"
    }
   }
  },
  {
   "cell_type": "code",
   "execution_count": 12,
   "outputs": [
    {
     "data": {
      "text/plain": "<Figure size 432x288 with 1 Axes>",
      "image/png": "[encoded data removed]"
     },
     "metadata": {
      "needs_background": "light"
     },
     "output_type": "display_data"
    }
   ],
   "source": [
    "import matplotlib.pyplot as pyplot\n",
    "%matplotlib inline\n",
    "\n",
    "pyplot.plot(MAP_hybrid_per_group, label=p3alpha_featurecombinedrp3beta_recommender.RECOMMENDER_NAME)\n",
    "pyplot.plot(MAP_p3alpha_per_group, label=p3alpha_recommender.RECOMMENDER_NAME)\n",
    "pyplot.plot(MAP_featurecombinationRP3beta_per_group, label=RP3betaCBFRecommender.RECOMMENDER_NAME)\n",
    "#pyplot.plot(MAP_pureSVDitem_per_group, label=pureSVDitem_recommender.RECOMMENDER_NAME)\n",
    "pyplot.plot(MAP_easer_per_group, label=easer_recommender.RECOMMENDER_NAME)\n",
    "pyplot.plot(MAP_topPop_per_group, label=\"topPop\")\n",
    "pyplot.ylabel('MAP')\n",
    "pyplot.xlabel('User Group')\n",
    "pyplot.legend()\n",
    "pyplot.show()\n",
    "\n",
    "\n"
   ],
   "metadata": {
    "collapsed": false,
    "pycharm": {
     "name": "#%%\n"
    }
   }
  }
 ],
 "metadata": {
  "kernelspec": {
   "name": "recsysframework",
   "language": "python",
   "display_name": "Python (RecSysFramework)"
  },
  "language_info": {
   "codemirror_mode": {
    "name": "ipython",
    "version": 2
   },
   "file_extension": ".py",
   "mimetype": "text/x-python",
   "name": "python",
   "nbconvert_exporter": "python",
   "pygments_lexer": "ipython2",
   "version": "2.7.6"
  }
 },
 "nbformat": 4,
 "nbformat_minor": 0
}