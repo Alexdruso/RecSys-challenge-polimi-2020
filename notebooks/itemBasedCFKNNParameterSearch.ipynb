{
 "cells": [
  {
   "cell_type": "code",
   "execution_count": 15,
   "metadata": {
    "collapsed": true
   },
   "outputs": [
    {
     "ename": "ValueError",
     "evalue": "attempted relative import beyond top-level package",
     "output_type": "error",
     "traceback": [
      "\u001B[1;31m---------------------------------------------------------------------------\u001B[0m",
      "\u001B[1;31mValueError\u001B[0m                                Traceback (most recent call last)",
      "\u001B[1;32m<ipython-input-15-785c4ae313ed>\u001B[0m in \u001B[0;36m<module>\u001B[1;34m\u001B[0m\n\u001B[1;32m----> 1\u001B[1;33m \u001B[1;32mfrom\u001B[0m \u001B[1;33m...\u001B[0m\u001B[0mRecSysChallenge2020\u001B[0m\u001B[1;33m.\u001B[0m\u001B[0msrc\u001B[0m\u001B[1;33m.\u001B[0m\u001B[0mKNN\u001B[0m\u001B[1;33m.\u001B[0m\u001B[0mItemKNNCFRecommender\u001B[0m \u001B[1;32mimport\u001B[0m \u001B[0mItemKNNCFRecommender\u001B[0m\u001B[1;33m\u001B[0m\u001B[1;33m\u001B[0m\u001B[0m\n\u001B[0m\u001B[0;32m      2\u001B[0m \u001B[1;32mfrom\u001B[0m \u001B[1;33m...\u001B[0m\u001B[0mRecSysChallenge2020\u001B[0m\u001B[1;33m.\u001B[0m\u001B[0msrc\u001B[0m\u001B[1;33m.\u001B[0m\u001B[0mParameterTuning\u001B[0m\u001B[1;33m.\u001B[0m\u001B[0mrun_parameter_search\u001B[0m \u001B[1;32mimport\u001B[0m \u001B[0mrunParameterSearch_Collaborative\u001B[0m\u001B[1;33m\u001B[0m\u001B[1;33m\u001B[0m\u001B[0m\n\u001B[0;32m      3\u001B[0m \u001B[1;32mimport\u001B[0m \u001B[0mpandas\u001B[0m \u001B[1;32mas\u001B[0m \u001B[0mpd\u001B[0m\u001B[1;33m\u001B[0m\u001B[1;33m\u001B[0m\u001B[0m\n\u001B[0;32m      4\u001B[0m \u001B[1;32mimport\u001B[0m \u001B[0mscipy\u001B[0m\u001B[1;33m.\u001B[0m\u001B[0msparse\u001B[0m \u001B[1;32mas\u001B[0m \u001B[0msps\u001B[0m\u001B[1;33m\u001B[0m\u001B[1;33m\u001B[0m\u001B[0m\n\u001B[0;32m      5\u001B[0m \u001B[1;33m\u001B[0m\u001B[0m\n",
      "\u001B[1;31mValueError\u001B[0m: attempted relative import beyond top-level package"
     ]
    }
   ],
   "source": [
    "from ..src.KNN.ItemKNNCFRecommender import ItemKNNCFRecommender\n",
    "from ..src.ParameterTuning.run_parameter_search import runParameterSearch_Collaborative\n",
    "import pandas as pd\n",
    "import scipy.sparse as sps"
   ]
  },
  {
   "cell_type": "code",
   "execution_count": null,
   "outputs": [],
   "source": [
    "data = pd.read_csv(\"in/data_train.csv\")\n",
    "\n",
    "userList = data['row'].tolist()\n",
    "itemList = data['col'].tolist()\n",
    "ratingList = data['data'].tolist()\n",
    "\n",
    "URM_all = sps.coo_matrix((ratingList, (userList, itemList)))\n",
    "URM_all = URM_all.tocsr()"
   ],
   "metadata": {
    "collapsed": false,
    "pycharm": {
     "name": "#%%\n"
    }
   }
  }
 ],
 "metadata": {
  "kernelspec": {
   "name": "recsysframework",
   "language": "python",
   "display_name": "Python (RecSysFramework)"
  },
  "language_info": {
   "codemirror_mode": {
    "name": "ipython",
    "version": 2
   },
   "file_extension": ".py",
   "mimetype": "text/x-python",
   "name": "python",
   "nbconvert_exporter": "python",
   "pygments_lexer": "ipython2",
   "version": "2.7.6"
  }
 },
 "nbformat": 4,
 "nbformat_minor": 0
}